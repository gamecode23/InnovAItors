{
 "cells": [
  {
   "cell_type": "markdown",
   "metadata": {},
   "source": [
    "# Mood Flipper"
   ]
  },
  {
   "cell_type": "markdown",
   "metadata": {},
   "source": [
    "By : InnovAItors <br>\n",
    "Ms. Juhi Kumari <br>\n",
    "Mr. Naman Awasthi\n"
   ]
  },
  {
   "cell_type": "markdown",
   "metadata": {},
   "source": [
    "## The main idea \n",
    "MoodFliper is an Artificial Augmentation to the real world. It interacts with the humans via music.<br>\n",
    "Medical Science has shown that the mood of a person can be elevated by Music Therapy. Such therapies are used by people suffering from:\n",
    "\n",
    "    1.Autism\n",
    "    2.Depression\n",
    "    3.Insomnia\n",
    "    4.Dementia\n",
    "\n",
    "\n",
    "You must have witnessed this. You go to a room and forget the reason of you going there. We feel frustrated in that situation. Imagine the plight of dementia patients who keep on forgetting things. It builds frustration in them and makes them angry which in long term leads to stress and depression.<br>\n",
    "\n",
    "For people with autism its already frustrating to understand things happening around them. If this frustration is not kept in check, it might lead to Autism attacks leading to trauma.\n",
    "\n",
    "We have made a noble system that detects the mood of a person and helps them to move from negative emotions to positive ones. "
   ]
  },
  {
   "cell_type": "markdown",
   "metadata": {},
   "source": [
    "Our Approach aims to make a hybrid between Healthcare and smart city systems. Rehabilitation centres usually have cameras installed. Our system takes feed from such system and decides the general mood of people. If the mood is negative (eg. sad) It determines the best music to play. This will act as a inducer of positive emotions in the person. \n",
    "\n",
    "In healthcare, Depression in a major concern. People are not able to find whether they are depressed or feeling low and take appropriate steps on their own. This system is able to analye the mood of person on the basis of their emotion on their face and then plays music to make them happy. If a person is sad, angry, fearful or in disgust mood it would play music accordingly. Then it would change the music on oberving less intensity of negative emotion. Slowly the person will start feeling Happy after some time.\n",
    "\n",
    "#### How we are using Deep Learning in the System?\n",
    "The System first recognises the facial emotion of the person in the real time. \n",
    "\n",
    "####  Network used\n",
    "Xception pre-trained on fer2013 data (kaggle dataset)\n",
    "\n",
    "#### Applications\n",
    "* This system can be used for the music therapy of Autism patients.<br>\n",
    "* In incresing sleep quality.<br>\n",
    "* It can also be implemented in Retail Stores for marketing purpose (passive suggestions).<br>\n",
    "* Music is also used in literature classes to teach students.<br>\n",
    "\n",
    "\n",
    "\n",
    "#### Future Scope\n",
    "The duration before a song/music should be changed can be further trained.\n",
    "It will learn the choice of songs people like to play using reinforcement learning.\n",
    "For the entertainment purpose of elder people, this system can be further trained according to the like of music.\n",
    "The system may also play video with audio for the music therapies. \n"
   ]
  },
  {
   "cell_type": "code",
   "execution_count": null,
   "metadata": {},
   "outputs": [],
   "source": []
  }
 ],
 "metadata": {
  "kernelspec": {
   "display_name": "Python 3",
   "language": "python",
   "name": "python3"
  },
  "language_info": {
   "codemirror_mode": {
    "name": "ipython",
    "version": 3
   },
   "file_extension": ".py",
   "mimetype": "text/x-python",
   "name": "python",
   "nbconvert_exporter": "python",
   "pygments_lexer": "ipython3",
   "version": "3.6.2"
  }
 },
 "nbformat": 4,
 "nbformat_minor": 2
}
