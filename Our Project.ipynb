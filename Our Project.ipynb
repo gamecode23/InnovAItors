{
 "cells": [
  {
   "cell_type": "markdown",
   "metadata": {},
   "source": [
    "# Mood Flipper"
   ]
  },
  {
   "cell_type": "markdown",
   "metadata": {},
   "source": [
    "By : InnovAItors <br>\n",
    "Ms. Juhi Kumari <br>\n",
    "Mr. Naman Awasthi\n"
   ]
  },
  {
   "cell_type": "markdown",
   "metadata": {},
   "source": [
    "## The main idea \n",
    "MoodFliper is an Artificial Augmentation to the real world. It interacts with the humans via music.<br>\n",
    "Medical Science has shown that the mood of a person can be elevated by Music Therapy. Such therapies are used by people suffering from:\n",
    "\n",
    "    1.Autism\n",
    "    2.Depression\n",
    "    3.Insomnia\n",
    "    4.Dementia\n",
    "\n",
    "\n",
    "\n",
    "We have made a noble system that would help people to move from negativity to positivity and become happy. Here the system is analyzing the mood of a person and playing the music.\n"
   ]
  },
  {
   "cell_type": "code",
   "execution_count": null,
   "metadata": {},
   "outputs": [],
   "source": []
  }
 ],
 "metadata": {
  "kernelspec": {
   "display_name": "Python 3",
   "language": "python",
   "name": "python3"
  },
  "language_info": {
   "codemirror_mode": {
    "name": "ipython",
    "version": 3
   },
   "file_extension": ".py",
   "mimetype": "text/x-python",
   "name": "python",
   "nbconvert_exporter": "python",
   "pygments_lexer": "ipython3",
   "version": "3.6.2"
  }
 },
 "nbformat": 4,
 "nbformat_minor": 2
}
